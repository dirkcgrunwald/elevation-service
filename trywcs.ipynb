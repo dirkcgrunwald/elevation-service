{
 "cells": [
  {
   "cell_type": "code",
   "execution_count": 12,
   "metadata": {},
   "outputs": [],
   "source": [
    "#\n",
    "# Tutorial at https://geoscripting-wur.github.io/PythonRaster/\n",
    "#\n",
    "\n",
    "from owslib.wcs import WebCoverageService\n",
    "\n",
    "# Access the WCS by proving the url and optional arguments (here version)\n",
    "#wcs = WebCoverageService('http://geodata.nationaalgeoregister.nl/ahn2/wcs?service=WCS', version='1.0.0')\n",
    "\n",
    "wcs = WebCoverageService(\"https://elevation.nationalmap.gov/arcgis/services/3DEPElevation/ImageServer/WCSServer?request=GetCapabilities&service=WCS\", version='2.0.1')\n"
   ]
  },
  {
   "cell_type": "code",
   "execution_count": 13,
   "metadata": {},
   "outputs": [
    {
     "name": "stdout",
     "output_type": "stream",
     "text": [
      "['DEP3Elevation', 'DEP3Elevation_Hillshade Gray', 'DEP3Elevation_Aspect Degrees', 'DEP3Elevation_Aspect Map', 'DEP3Elevation_Contour 25', 'DEP3Elevation_Hillshade Elevation Tinted', 'DEP3Elevation_Height Ellipsoidal', 'DEP3Elevation_GreyHillshade_elevationFill', 'DEP3Elevation_Hillshade Multidirectional', 'DEP3Elevation_Slope Map', 'DEP3Elevation_Slope Degrees', 'DEP3Elevation_Contour Smoothed 25']\n"
     ]
    }
   ],
   "source": [
    "# Print to check the contents of the WCS\n",
    "print(list(wcs.contents))"
   ]
  },
  {
   "cell_type": "code",
   "execution_count": 14,
   "metadata": {},
   "outputs": [
    {
     "name": "stdout",
     "output_type": "stream",
     "text": [
      "['GetCapabilities', 'DescribeCoverage', 'GetCoverage', 'PostEncoding']\n"
     ]
    }
   ],
   "source": [
    "\n",
    "# Get all operations and print the name of each of them\n",
    "print([op.name for op in wcs.operations])\n"
   ]
  },
  {
   "cell_type": "code",
   "execution_count": 15,
   "metadata": {},
   "outputs": [
    {
     "name": "stdout",
     "output_type": "stream",
     "text": [
      "[]\n",
      "None\n",
      "['image/tiff']\n"
     ]
    }
   ],
   "source": [
    "# Take the 0.5m-resolution rough raster as example\n",
    "cvg = wcs.contents['DEP3Elevation']\n",
    "# print supported reference systems, the bounding box defined in WGS 84 coordinates, and supported file formats\n",
    "print(cvg.supportedCRS)\n",
    "print(cvg.boundingBoxWGS84)\n",
    "print(cvg.supportedFormats)"
   ]
  },
  {
   "cell_type": "code",
   "execution_count": 21,
   "metadata": {},
   "outputs": [
    {
     "data": {
      "text/plain": [
       "[]"
      ]
     },
     "execution_count": 21,
     "metadata": {},
     "output_type": "execute_result"
    }
   ],
   "source": [
    "cvg.boundingboxes"
   ]
  },
  {
   "cell_type": "code",
   "execution_count": null,
   "metadata": {},
   "outputs": [],
   "source": [
    "import os\n",
    "\n",
    "# Define a bounding box in the availble crs (see before) by picking a point and drawing a 1x1 km box around it\n",
    "x, y = 174100, 444100\n",
    "bbox = (x-500, y-500, x+500, y+500)\n",
    "bbox = (-71.07, 42.36, -71.03, 42.33)\n",
    "\n",
    "# Create a data directoty within the directory where this script is run if it does not exist yet and store file\n",
    "if not os.path.exists('data'): os.makedirs('data')\n",
    "\n",
    "# Request the DSM data from the WCS\n",
    "response = wcs.getCoverage(identifier='DEP3Elevation', bbox=bbox, format='GEOTIFF_FLOAT32', crs='urn:ogc:def:crs:EPSG::28992', resx=0.5, resy=0.5)\n",
    "\n",
    "# Write the data to a local file in the 'data' folder (it should exist)\n",
    "with open('./data/AHN2_05m_DSM.tif', 'wb') as file:\n",
    "    file.write(response.read())\n",
    "\n",
    "# # Do the same for the DTM\n",
    "# response = wcs.getCoverage(identifier='ahn2_05m_int', bbox=bbox, format='GEOTIFF_FLOAT32', crs='urn:ogc:def:crs:EPSG::28992', resx=0.5, resy=0.5)\n",
    "\n",
    "# with open('./data/AHN2_05m_DTM.tif', 'wb') as file:\n",
    "#     file.write(response.read())"
   ]
  },
  {
   "cell_type": "code",
   "execution_count": null,
   "metadata": {},
   "outputs": [],
   "source": []
  }
 ],
 "metadata": {
  "kernelspec": {
   "display_name": "Python 3.10.6 ('base')",
   "language": "python",
   "name": "python3"
  },
  "language_info": {
   "codemirror_mode": {
    "name": "ipython",
    "version": 3
   },
   "file_extension": ".py",
   "mimetype": "text/x-python",
   "name": "python",
   "nbconvert_exporter": "python",
   "pygments_lexer": "ipython3",
   "version": "3.10.6"
  },
  "orig_nbformat": 4,
  "vscode": {
   "interpreter": {
    "hash": "f499961d6121e82e4409878c41d6d47837040ef2a2aba3dbf66d822e1a922a21"
   }
  }
 },
 "nbformat": 4,
 "nbformat_minor": 2
}
